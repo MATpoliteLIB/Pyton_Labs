{
  "metadata": {
    "kernelspec": {
      "name": "python",
      "display_name": "Python (Pyodide)",
      "language": "python"
    },
    "language_info": {
      "codemirror_mode": {
        "name": "python",
        "version": 3
      },
      "file_extension": ".py",
      "mimetype": "text/x-python",
      "name": "python",
      "nbconvert_exporter": "python",
      "pygments_lexer": "ipython3",
      "version": "3.8"
    }
  },
  "nbformat_minor": 4,
  "nbformat": 4,
  "cells": [
    {
      "cell_type": "markdown",
      "source": "Лабораторная работа по NumPy",
      "metadata": {}
    },
    {
      "cell_type": "markdown",
      "source": "Задание 1: обработка фотографий ",
      "metadata": {}
    },
    {
      "cell_type": "markdown",
      "source": "Загружаем необходимые библиотеки",
      "metadata": {}
    },
    {
      "cell_type": "code",
      "source": "from PIL import Image\nimport numpy as np\nimport math",
      "metadata": {
        "trusted": true
      },
      "outputs": [],
      "execution_count": 34
    },
    {
      "cell_type": "markdown",
      "source": "Функция, которая будет нам обрабатывать фотографии",
      "metadata": {}
    },
    {
      "cell_type": "code",
      "source": "def processing(data):\n    x,y = data.shape\n    dif = math.ceil(255 / (np.amax(data) - np.amin(data)))\n    min = np.amin(data)\n    for i in range(x):\n        for j in range(y):\n            data[i][j]=(data[i][j]-min)*dif\n    return data",
      "metadata": {
        "trusted": true
      },
      "outputs": [],
      "execution_count": 35
    },
    {
      "cell_type": "markdown",
      "source": "Функция, которая создает нам обработанную фотографию",
      "metadata": {}
    },
    {
      "cell_type": "code",
      "source": "def create_photo(image,saving_image_name):\n    jpg = Image.open(image)\n    data = np.array(jpg)\n    result = processing(data)\n    res_img = Image.fromarray(result)\n    res_img.save(saving_image_name)   ",
      "metadata": {
        "trusted": true
      },
      "outputs": [],
      "execution_count": 38
    },
    {
      "cell_type": "markdown",
      "source": "Таким образом создаем интерфейс, в которую нужно лишь ввести нужные названия для фоток пользователю ",
      "metadata": {}
    },
    {
      "cell_type": "code",
      "source": "image = \"lunar03_raw.jpg\"\nsaving_image_name = \"Task1_Result3.jpg\"\n#-------------------------------------------------------------------------------------------------------------------------------------------#\ncreate_photo(image,saving_image_name)",
      "metadata": {
        "trusted": true
      },
      "outputs": [],
      "execution_count": 41
    },
    {
      "cell_type": "code",
      "source": "",
      "metadata": {
        "trusted": true
      },
      "outputs": [],
      "execution_count": null
    }
  ]
}