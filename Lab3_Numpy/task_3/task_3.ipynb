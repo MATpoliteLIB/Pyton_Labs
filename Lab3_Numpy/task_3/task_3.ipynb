{
  "metadata": {
    "kernelspec": {
      "name": "python",
      "display_name": "Python (Pyodide)",
      "language": "python"
    },
    "language_info": {
      "codemirror_mode": {
        "name": "python",
        "version": 3
      },
      "file_extension": ".py",
      "mimetype": "text/x-python",
      "name": "python",
      "nbconvert_exporter": "python",
      "pygments_lexer": "ipython3",
      "version": "3.8"
    }
  },
  "nbformat_minor": 4,
  "nbformat": 4,
  "cells": [
    {
      "cell_type": "markdown",
      "source": "Задание 3",
      "metadata": {}
    },
    {
      "cell_type": "code",
      "source": "import numpy as np\nimport matplotlib.pyplot as plt\nfrom matplotlib.animation import PillowWriter\nfrom PIL import Image",
      "metadata": {
        "trusted": true
      },
      "outputs": [],
      "execution_count": 71
    },
    {
      "cell_type": "markdown",
      "source": "Считываем данные,  транспонируем и превратим ее в вектор-столбец:",
      "metadata": {}
    },
    {
      "cell_type": "code",
      "source": "def read(name):\n    data = np.array([])\n    with open(name) as f:\n        for line in f:\n            data = np.append(data,[float(x) for x in line.split()])\n    data = np.expand_dims(data, axis=1)\n    return data",
      "metadata": {
        "trusted": true
      },
      "outputs": [],
      "execution_count": 72
    },
    {
      "cell_type": "markdown",
      "source": "Строим матрицу А:",
      "metadata": {}
    },
    {
      "cell_type": "code",
      "source": "def create_matrix(n):\n    A = np.zeros((n, n))\n    np.fill_diagonal(A, 1)\n    A[np.arange(n), (np.arange(n) - 1) % n] = -1\n    return A",
      "metadata": {
        "trusted": true
      },
      "outputs": [],
      "execution_count": 73
    },
    {
      "cell_type": "markdown",
      "source": "Также создаем функцию, которая строит для нас гифки:",
      "metadata": {}
    },
    {
      "cell_type": "code",
      "source": "def create_gif(step, data, A, save_name):\n    frames = []\n    for i in range(step):\n        plt.figure()\n        plt.grid(True) \n        plt.grid(color='gray', linestyle='--', linewidth=0.5)\n        plt.plot(data)\n        plt.ylim(0, 10)\n    \n        plt.savefig('temp.png')\n        product = np.dot(A, data)\n        data = data - 0.5 * product\n        plt.close() \n    \n        frame = Image.open('temp.png')\n        frames.append(frame)\n    \n    frames[0].save(save_name, save_all=True, append_images=frames[1:], optimize=False, duration=100, loop=0)\n    \n    import os\n    os.remove('temp.png')",
      "metadata": {
        "trusted": true
      },
      "outputs": [],
      "execution_count": 81
    },
    {
      "cell_type": "markdown",
      "source": "И функцию, логически выполняющую наще задание:",
      "metadata": {}
    },
    {
      "cell_type": "code",
      "source": "def complete_task(name,step,save_name):\n    data = read(name)\n    A = create_matrix(np.size(data))\n    create_gif(step, data, A, save_name)",
      "metadata": {
        "trusted": true
      },
      "outputs": [],
      "execution_count": 82
    },
    {
      "cell_type": "markdown",
      "source": "И представляем наш интерфейс:",
      "metadata": {}
    },
    {
      "cell_type": "code",
      "source": "name = 'data.txt'\nstep = 255 \nsave_name = \"animation.gif\"\n\ncomplete_task(name,step,save_name)",
      "metadata": {
        "trusted": true
      },
      "outputs": [],
      "execution_count": 83
    },
    {
      "cell_type": "code",
      "source": "",
      "metadata": {
        "trusted": true
      },
      "outputs": [],
      "execution_count": null
    }
  ]
}