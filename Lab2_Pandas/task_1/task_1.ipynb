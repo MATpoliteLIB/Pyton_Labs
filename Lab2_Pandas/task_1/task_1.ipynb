{
  "metadata": {
    "kernelspec": {
      "name": "python",
      "display_name": "Python (Pyodide)",
      "language": "python"
    },
    "language_info": {
      "codemirror_mode": {
        "name": "python",
        "version": 3
      },
      "file_extension": ".py",
      "mimetype": "text/x-python",
      "name": "python",
      "nbconvert_exporter": "python",
      "pygments_lexer": "ipython3",
      "version": "3.8"
    }
  },
  "nbformat_minor": 4,
  "nbformat": 4,
  "cells": [
    {
      "cell_type": "markdown",
      "source": "Задание 1. Лабораторная Pandas",
      "metadata": {}
    },
    {
      "cell_type": "markdown",
      "source": "Найдем три самых дорогих реально проведенных покупок",
      "metadata": {}
    },
    {
      "cell_type": "code",
      "source": "import pandas as pd\n\ndata=pd.read_csv('transactions.csv', sep=',')\nprint(data)\nOK_status=data.loc[data[\"STATUS\"]==\"OK\"].sort_values(by='SUM', ascending=False)\nprint(\"Топ-3 самых дорогих закупок\" )\nfor i in range (3):\n    print(f\"{i+1}. Заказ №{OK_status.iloc[i]['Unnamed: 0']} компании {OK_status.iloc[i]['CONTRACTOR']} на сумму {OK_status.iloc[i]['SUM']}\")",
      "metadata": {
        "trusted": true
      },
      "outputs": [
        {
          "name": "stdout",
          "text": "      Unnamed: 0     CONTRACTOR    STATUS  SUM\n0              0      Acme, Inc   WAITING  415\n1              1  Umbrella, Inc   WAITING  646\n2              2  Umbrella, Inc        OK  780\n3              3  Umbrella, Inc  CANCELED  887\n4              4  Umbrella, Inc        OK  255\n...          ...            ...       ...  ...\n9995        9995      Acme, Inc        OK  881\n9996        9996      Acme, Inc        OK  160\n9997        9997  Umbrella, Inc        OK  683\n9998        9998  Umbrella, Inc   WAITING  805\n9999        9999      Acme, Inc   WAITING  982\n\n[10000 rows x 4 columns]\nТоп-3 самых дорогих закупок\n1. Заказ №5085 компании Acme, Inc на сумму 100500\n2. Заказ №4451 компании Umbrella, Inc на сумму 1000\n3. Заказ №1348 компании Acme, Inc на сумму 999\n",
          "output_type": "stream"
        }
      ],
      "execution_count": 2
    },
    {
      "cell_type": "markdown",
      "source": "Теперь просчитаем суммы по выбранной категории",
      "metadata": {}
    },
    {
      "cell_type": "code",
      "source": "df=OK_status.groupby('CONTRACTOR').sum()\nprint(f\"Сумма реально проведенных платежей кампании Umbrella, Inc составляет {df.loc['Umbrella, Inc','SUM']}\")",
      "metadata": {
        "trusted": true
      },
      "outputs": [
        {
          "name": "stdout",
          "text": "Сумма реально проведенных платежей кампании Umbrella, Inc составляет 925719\n",
          "output_type": "stream"
        }
      ],
      "execution_count": 38
    }
  ]
}